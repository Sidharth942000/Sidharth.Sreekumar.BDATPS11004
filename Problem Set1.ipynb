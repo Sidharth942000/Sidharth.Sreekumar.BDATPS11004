{
 "cells": [
  {
   "cell_type": "markdown",
   "id": "df12b493",
   "metadata": {},
   "source": [
    "# Problem Set 1\n"
   ]
  },
  {
   "cell_type": "markdown",
   "id": "51fbe5bd",
   "metadata": {},
   "source": [
    "## Question 1: What data type is each of the following (evaluate where necessary)?\n"
   ]
  },
  {
   "cell_type": "markdown",
   "id": "5084877b",
   "metadata": {},
   "source": [
    "1. (5) = Integer\n",
    "2. (5.0) = Float\n",
    "3. (5>1) = Boolean\n",
    "4. ('5') = String\n",
    "5. (5*2) = Integer\n",
    "6. ('5'*2) = String\n",
    "7. ('5'+'2') = String\n",
    "8. (5/2) = Integer\n",
    "9. (5%2) = Integer\n",
    "10. {5, 2, 1} = This represents a set.\n",
    "11. (5 == 3) = Boolean\n",
    "12. Pi (the number) = Float. This can only be done by calling math module before doing the calculations."
   ]
  },
  {
   "cell_type": "markdown",
   "id": "6f13ffe1",
   "metadata": {},
   "source": [
    "## Question 2: Write (and evaluate) python expressions that answer these questions:\n",
    "## a. How many letters are there in 'Supercalifragilisticexpialidocious'?"
   ]
  },
  {
   "cell_type": "code",
   "execution_count": 22,
   "id": "f804ee8b",
   "metadata": {},
   "outputs": [
    {
     "name": "stdout",
     "output_type": "stream",
     "text": [
      "34\n"
     ]
    }
   ],
   "source": [
    "string = 'Supercalifragilisticexpialidocious'\n",
    "Word_count = len(string)\n",
    "print(Word_count)\n"
   ]
  },
  {
   "cell_type": "markdown",
   "id": "e2b02242",
   "metadata": {},
   "source": [
    "## b. Does 'Supercalifragilisticexpialidocious' contain 'ice' as a substring? \n"
   ]
  },
  {
   "cell_type": "code",
   "execution_count": 24,
   "id": "fe9198ee",
   "metadata": {},
   "outputs": [
    {
     "name": "stdout",
     "output_type": "stream",
     "text": [
      "True\n"
     ]
    }
   ],
   "source": [
    "string1 = 'Supercalifragilisticexpialidocious'\n",
    "string2 = 'ice'\n",
    "Wordinstring = string2 in string1\n",
    "print(Wordinstring)\n"
   ]
  },
  {
   "cell_type": "markdown",
   "id": "5e48e81f",
   "metadata": {},
   "source": [
    "## c. Which of the following words is the longest: \n",
    "Supercalifragilisticexpialidocious, Honorificabilitudinitatibus, or \n",
    "Bababadalgharaghtakamminarronnkonn?"
   ]
  },
  {
   "cell_type": "code",
   "execution_count": 26,
   "id": "9d80fef2",
   "metadata": {},
   "outputs": [
    {
     "name": "stdout",
     "output_type": "stream",
     "text": [
      "Supercalifragilisticexpialidocious\n"
     ]
    }
   ],
   "source": [
    "List = ['Supercalifragilisticexpialidocious', 'Honorificabilitudinitatibus', 'Bababadalgharaghtakamminarronnkonn']\n",
    "Longest = max(List, key=len)\n",
    "print(Longest)"
   ]
  },
  {
   "cell_type": "markdown",
   "id": "f29582a5",
   "metadata": {},
   "source": [
    "## d. Which composer comes first in the dictionary: 'Berlioz', 'Borodin', 'Brian', \n",
    "'Bartok', 'Bellini', 'Buxtehude', 'Bernstein'. Which one comes last?"
   ]
  },
  {
   "cell_type": "code",
   "execution_count": 27,
   "id": "0830e007",
   "metadata": {},
   "outputs": [
    {
     "name": "stdout",
     "output_type": "stream",
     "text": [
      "First Word is: Bartok\n",
      "Last Word is: Buxtehude\n"
     ]
    }
   ],
   "source": [
    "List = ['Berlioz', 'Borodin', 'Brian', 'Bartok', 'Bellini', 'Buxtehude', 'Bernstein']\n",
    "first_word = min(List)\n",
    "last_word = max(List)\n",
    "print(\"First Word is:\", first_word)\n",
    "print(\"Last Word is:\", last_word)\n"
   ]
  },
  {
   "cell_type": "markdown",
   "id": "b81a24c0",
   "metadata": {},
   "source": [
    "## Question 3: Implement function triangleArea(a,b,c) that takes as input the lengths of the 3 sides of a triangle and returns the area of the triangle. By Heron's formula, the area of a triangle with side lengths a, b, and c is root(s(s - a)(s -b)(s -c)), where s = (a+b+c)/2.\n"
   ]
  },
  {
   "cell_type": "code",
   "execution_count": 30,
   "id": "f5485eff",
   "metadata": {},
   "outputs": [
    {
     "name": "stdout",
     "output_type": "stream",
     "text": [
      "The area of the triangle is: 89.29410674842993\n"
     ]
    }
   ],
   "source": [
    "import math\n",
    "def triangleArea(a, b, c):\n",
    "    s = (a + b + c) / 2\n",
    "    area = math.sqrt(s * (s - a) * (s - b) * (s - c))\n",
    "    return area\n",
    "a = 12\n",
    "b = 15\n",
    "c = 18\n",
    "area = triangleArea(a, b, c)\n",
    "print(\"The area of the triangle is:\", area)\n",
    "\n"
   ]
  },
  {
   "cell_type": "markdown",
   "id": "8a51a50e",
   "metadata": {},
   "source": [
    "## Question 4: Write a program in python to separate odd and even integers in separate arrays. \n"
   ]
  },
  {
   "cell_type": "code",
   "execution_count": 31,
   "id": "33734dd8",
   "metadata": {},
   "outputs": [
    {
     "name": "stdout",
     "output_type": "stream",
     "text": [
      "Input the number of elements to be stored: 4\n",
      "Input 4 elements in the array:\n",
      "element - 0: 4\n",
      "element - 1: 6\n",
      "element - 2: 7\n",
      "element - 3: 9\n",
      "The Even numbers are:\n",
      "4 6\n",
      "The Odd numbers are:\n",
      "7 9\n"
     ]
    }
   ],
   "source": [
    "def separateOddEven(numbers):\n",
    "    # Creating empty arrays\n",
    "    odd = []\n",
    "    even = []\n",
    "    print(\"Input\", numbers, \"elements in the array:\")\n",
    "    for i in range(numbers):\n",
    "        num = int(input(\"element - {}: \".format(i)))\n",
    "        if num % 2 == 0:\n",
    "            even.append(num)\n",
    "        else:\n",
    "            odd.append(num)\n",
    "    print(\"The Even numbers are:\")\n",
    "    print(\" \".join(str(num) for num in even))\n",
    "    print(\"The Odd numbers are:\")\n",
    "    print(\" \".join(str(num) for num in odd))\n",
    "numbers = int(input(\"Input the number of elements to be stored: \"))\n",
    "separateOddEven(numbers)\n"
   ]
  },
  {
   "cell_type": "markdown",
   "id": "41fde9f3",
   "metadata": {},
   "source": [
    "## Question 5: Write a function inside(x,y,x1,y1,x2,y2) that returns True or False depending on whether the point (x,y) lies in the rectangle with lower left corner (x1,y1) and upper right corner (x2,y2).\n",
    "##  a. >>> inside(1,1,0,0,2,3)\n",
    "True\n",
    "## >>> inside(-1,-1,0,0,2,3)\n",
    "False"
   ]
  },
  {
   "cell_type": "code",
   "execution_count": 46,
   "id": "8cdd6c3a",
   "metadata": {},
   "outputs": [
    {
     "name": "stdout",
     "output_type": "stream",
     "text": [
      "Enter first number:4\n",
      "Enter second number:5\n",
      "Enter third number:6\n",
      "Enter fourth number:7\n",
      "Enter fifth number:8\n",
      "Enter sixth number:9\n"
     ]
    },
    {
     "data": {
      "text/plain": [
       "False"
      ]
     },
     "execution_count": 46,
     "metadata": {},
     "output_type": "execute_result"
    }
   ],
   "source": [
    "def inside(x, y, x1, y1, x2, y2):\n",
    "    if x1 <= x <= x2 and y1 <= y <= y2:\n",
    "        return True\n",
    "    else:\n",
    "        return False\n",
    "x=int(input(\"Enter first number:\"))\n",
    "y=int(input(\"Enter second number:\"))\n",
    "x1=int(input(\"Enter third number:\"))\n",
    "y1=int(input(\"Enter fourth number:\"))\n",
    "x2=int(input(\"Enter fifth number:\"))\n",
    "y2=int(input(\"Enter sixth number:\"))\n",
    "inside(x, y, x1, y1, x2, y2)\n",
    "\n"
   ]
  },
  {
   "cell_type": "markdown",
   "id": "eb0d557b",
   "metadata": {},
   "source": [
    "## b. Use function inside() from part a. to write an expression that tests whether the point (1,1) lies in both of the following rectangles: one with lower left corner (0.3, 0.5) and upper right corner (1.1, 0.7) and the other with lower left corner (0.5, 0.2) and upper right corner (1.1, 2)."
   ]
  },
  {
   "cell_type": "code",
   "execution_count": 48,
   "id": "226b86de",
   "metadata": {},
   "outputs": [
    {
     "name": "stdout",
     "output_type": "stream",
     "text": [
      "False\n"
     ]
    }
   ],
   "source": [
    "points = (1, 1)\n",
    "rectangle1 = (0.3, 0.5, 1.1, 0.7)\n",
    "rectangle2 = (0.5, 0.2, 1.1, 2)\n",
    "\n",
    "final = inside(*points, *rectangle1) and inside(*points, *rectangle2)\n",
    "print(final)\n"
   ]
  },
  {
   "cell_type": "markdown",
   "id": "055fce2a",
   "metadata": {},
   "source": [
    "## Question 6: You can turn a word into pig-Latin using the following two rules (simplified):\n",
    "## • If the word starts with a consonant, move that letter to the end and append 'ay'. \n",
    "## For example, 'happy' becomes 'appyhay' and 'pencil' becomes 'encilpay'.\n",
    "## • If the word starts with a vowel, simply append 'way' to the end of the word. \n",
    "## For example, 'enter' becomes 'enterway' and 'other' becomes 'otherway' . For our purposes, there are 5 vowels: a, e, i, o, u (so we count y as a consonant).\n",
    "## Write a function pig() that takes a word (i.e., a string) as input and returns its pig\u0002Latin form. Your function should still work if the input word contains upper case characters. Your output should always be lower case however.\n"
   ]
  },
  {
   "cell_type": "code",
   "execution_count": 49,
   "id": "68860776",
   "metadata": {},
   "outputs": [
    {
     "name": "stdout",
     "output_type": "stream",
     "text": [
      "Enter a word:Beautiful\n"
     ]
    },
    {
     "data": {
      "text/plain": [
       "'eautifulbay'"
      ]
     },
     "execution_count": 49,
     "metadata": {},
     "output_type": "execute_result"
    }
   ],
   "source": [
    "def pig(word):\n",
    "    vowels = ['a', 'e', 'i', 'o', 'u']\n",
    "    word = word.lower()\n",
    "    if word[0] in vowels:\n",
    "        pig_word = word + 'way'\n",
    "    else:\n",
    "        pig_word = word[1:] + word[0] + 'ay'\n",
    "    return pig_word\n",
    "word=input(\"Enter a word:\")\n",
    "pig(word)"
   ]
  },
  {
   "cell_type": "markdown",
   "id": "cbca89c5",
   "metadata": {},
   "source": [
    "## Question 7: File bloodtype1.txt records blood-types of patients (A, B, AB, O or OO) at a clinic. Write a function bldcount() that reads the file with name name and reports (i.e.,prints) how many patients there are in each bloodtype. \n",
    "\n"
   ]
  },
  {
   "cell_type": "code",
   "execution_count": 19,
   "id": "4c97c0cd",
   "metadata": {},
   "outputs": [
    {
     "ename": "FileNotFoundError",
     "evalue": "[Errno 2] No such file or directory: 'bloodtype.txt'",
     "output_type": "error",
     "traceback": [
      "\u001b[1;31m---------------------------------------------------------------------------\u001b[0m",
      "\u001b[1;31mFileNotFoundError\u001b[0m                         Traceback (most recent call last)",
      "Cell \u001b[1;32mIn[19], line 21\u001b[0m\n\u001b[0;32m     17\u001b[0m             \u001b[38;5;28mprint\u001b[39m(\u001b[38;5;124m\"\u001b[39m\u001b[38;5;124mThere are\u001b[39m\u001b[38;5;124m\"\u001b[39m, count, \u001b[38;5;124m\"\u001b[39m\u001b[38;5;124mpatients of blood type\u001b[39m\u001b[38;5;124m\"\u001b[39m, blood_type \u001b[38;5;241m+\u001b[39m \u001b[38;5;124m\"\u001b[39m\u001b[38;5;124m.\u001b[39m\u001b[38;5;124m\"\u001b[39m)\n\u001b[0;32m     20\u001b[0m \u001b[38;5;66;03m# Call the function with the file name\u001b[39;00m\n\u001b[1;32m---> 21\u001b[0m \u001b[43mbldcount\u001b[49m\u001b[43m(\u001b[49m\u001b[38;5;124;43m'\u001b[39;49m\u001b[38;5;124;43mbloodtype.txt\u001b[39;49m\u001b[38;5;124;43m'\u001b[39;49m\u001b[43m)\u001b[49m\n",
      "Cell \u001b[1;32mIn[19], line 5\u001b[0m, in \u001b[0;36mbldcount\u001b[1;34m(filename)\u001b[0m\n\u001b[0;32m      2\u001b[0m blood_counts \u001b[38;5;241m=\u001b[39m {\u001b[38;5;124m'\u001b[39m\u001b[38;5;124mA\u001b[39m\u001b[38;5;124m'\u001b[39m: \u001b[38;5;241m0\u001b[39m, \u001b[38;5;124m'\u001b[39m\u001b[38;5;124mB\u001b[39m\u001b[38;5;124m'\u001b[39m: \u001b[38;5;241m0\u001b[39m, \u001b[38;5;124m'\u001b[39m\u001b[38;5;124mAB\u001b[39m\u001b[38;5;124m'\u001b[39m: \u001b[38;5;241m0\u001b[39m, \u001b[38;5;124m'\u001b[39m\u001b[38;5;124mO\u001b[39m\u001b[38;5;124m'\u001b[39m: \u001b[38;5;241m0\u001b[39m, \u001b[38;5;124m'\u001b[39m\u001b[38;5;124mOO\u001b[39m\u001b[38;5;124m'\u001b[39m: \u001b[38;5;241m0\u001b[39m}\n\u001b[0;32m      4\u001b[0m \u001b[38;5;66;03m# Read the file\u001b[39;00m\n\u001b[1;32m----> 5\u001b[0m \u001b[38;5;28;01mwith\u001b[39;00m \u001b[38;5;28;43mopen\u001b[39;49m\u001b[43m(\u001b[49m\u001b[43mfilename\u001b[49m\u001b[43m,\u001b[49m\u001b[43m \u001b[49m\u001b[38;5;124;43m'\u001b[39;49m\u001b[38;5;124;43mr\u001b[39;49m\u001b[38;5;124;43m'\u001b[39;49m\u001b[43m)\u001b[49m \u001b[38;5;28;01mas\u001b[39;00m file:\n\u001b[0;32m      6\u001b[0m     blood_data \u001b[38;5;241m=\u001b[39m file\u001b[38;5;241m.\u001b[39mread()\u001b[38;5;241m.\u001b[39msplitlines()\n\u001b[0;32m      8\u001b[0m \u001b[38;5;66;03m# Count the blood types\u001b[39;00m\n",
      "File \u001b[1;32m~\\anaconda3\\lib\\site-packages\\IPython\\core\\interactiveshell.py:282\u001b[0m, in \u001b[0;36m_modified_open\u001b[1;34m(file, *args, **kwargs)\u001b[0m\n\u001b[0;32m    275\u001b[0m \u001b[38;5;28;01mif\u001b[39;00m file \u001b[38;5;129;01min\u001b[39;00m {\u001b[38;5;241m0\u001b[39m, \u001b[38;5;241m1\u001b[39m, \u001b[38;5;241m2\u001b[39m}:\n\u001b[0;32m    276\u001b[0m     \u001b[38;5;28;01mraise\u001b[39;00m \u001b[38;5;167;01mValueError\u001b[39;00m(\n\u001b[0;32m    277\u001b[0m         \u001b[38;5;124mf\u001b[39m\u001b[38;5;124m\"\u001b[39m\u001b[38;5;124mIPython won\u001b[39m\u001b[38;5;124m'\u001b[39m\u001b[38;5;124mt let you open fd=\u001b[39m\u001b[38;5;132;01m{\u001b[39;00mfile\u001b[38;5;132;01m}\u001b[39;00m\u001b[38;5;124m by default \u001b[39m\u001b[38;5;124m\"\u001b[39m\n\u001b[0;32m    278\u001b[0m         \u001b[38;5;124m\"\u001b[39m\u001b[38;5;124mas it is likely to crash IPython. If you know what you are doing, \u001b[39m\u001b[38;5;124m\"\u001b[39m\n\u001b[0;32m    279\u001b[0m         \u001b[38;5;124m\"\u001b[39m\u001b[38;5;124myou can use builtins\u001b[39m\u001b[38;5;124m'\u001b[39m\u001b[38;5;124m open.\u001b[39m\u001b[38;5;124m\"\u001b[39m\n\u001b[0;32m    280\u001b[0m     )\n\u001b[1;32m--> 282\u001b[0m \u001b[38;5;28;01mreturn\u001b[39;00m io_open(file, \u001b[38;5;241m*\u001b[39margs, \u001b[38;5;241m*\u001b[39m\u001b[38;5;241m*\u001b[39mkwargs)\n",
      "\u001b[1;31mFileNotFoundError\u001b[0m: [Errno 2] No such file or directory: 'bloodtype.txt'"
     ]
    }
   ],
   "source": [
    "def bldcount(filename):\n",
    "    blood_counts = {'A': 0, 'B': 0, 'AB': 0, 'O': 0, 'OO': 0}\n",
    "    with open(filename, 'r') as file:\n",
    "        blood_data = file.read().splitlines()\n",
    "    for blood_type in blood_data:\n",
    "        blood_counts[blood_type] += 1\n",
    "    for blood_type, count in blood_counts.items():\n",
    "        if count == 1:\n",
    "            print(\"There is one patient of blood type\", blood_type + \".\")\n",
    "        else:\n",
    "            print(\"There are\", count, \"patients of blood type\", blood_type + \".\")\n",
    "bldcount('bloodtype.txt')\n"
   ]
  },
  {
   "cell_type": "markdown",
   "id": "0c69a359",
   "metadata": {},
   "source": [
    "## Question 8: Write a function curconv() that takes as input:\n",
    "## 1. a currency represented using a string (e.g., 'JPY' for the Japanese Yen or 'EUR' for the Euro)\n",
    "## 2. an amount and then converts and returns the amount in US dollars.\n"
   ]
  },
  {
   "cell_type": "code",
   "execution_count": 47,
   "id": "a48d87c9",
   "metadata": {
    "scrolled": true
   },
   "outputs": [
    {
     "ename": "FileNotFoundError",
     "evalue": "[Errno 2] No such file or directory: 'currencies.txt'",
     "output_type": "error",
     "traceback": [
      "\u001b[1;31m---------------------------------------------------------------------------\u001b[0m",
      "\u001b[1;31mFileNotFoundError\u001b[0m                         Traceback (most recent call last)",
      "Cell \u001b[1;32mIn[47], line 9\u001b[0m\n\u001b[0;32m      7\u001b[0m     usd_amount \u001b[38;5;241m=\u001b[39m amount \u001b[38;5;241m*\u001b[39m rates[currency]\n\u001b[0;32m      8\u001b[0m     \u001b[38;5;28;01mreturn\u001b[39;00m usd_amount\n\u001b[1;32m----> 9\u001b[0m usd_value \u001b[38;5;241m=\u001b[39m \u001b[43mcurconv\u001b[49m\u001b[43m(\u001b[49m\u001b[38;5;124;43m'\u001b[39;49m\u001b[38;5;124;43mEUR\u001b[39;49m\u001b[38;5;124;43m'\u001b[39;49m\u001b[43m,\u001b[49m\u001b[43m \u001b[49m\u001b[38;5;241;43m100\u001b[39;49m\u001b[43m)\u001b[49m\n\u001b[0;32m     10\u001b[0m \u001b[38;5;28mprint\u001b[39m(usd_value) \n\u001b[0;32m     11\u001b[0m usd_value \u001b[38;5;241m=\u001b[39m curconv(\u001b[38;5;124m'\u001b[39m\u001b[38;5;124mJPY\u001b[39m\u001b[38;5;124m'\u001b[39m, \u001b[38;5;241m100\u001b[39m)\n",
      "Cell \u001b[1;32mIn[47], line 3\u001b[0m, in \u001b[0;36mcurconv\u001b[1;34m(currency, amount)\u001b[0m\n\u001b[0;32m      1\u001b[0m \u001b[38;5;28;01mdef\u001b[39;00m \u001b[38;5;21mcurconv\u001b[39m(currency, amount):\n\u001b[0;32m      2\u001b[0m     rates \u001b[38;5;241m=\u001b[39m {}\n\u001b[1;32m----> 3\u001b[0m     \u001b[38;5;28;01mwith\u001b[39;00m \u001b[38;5;28;43mopen\u001b[39;49m\u001b[43m(\u001b[49m\u001b[38;5;124;43m'\u001b[39;49m\u001b[38;5;124;43mcurrencies.txt\u001b[39;49m\u001b[38;5;124;43m'\u001b[39;49m\u001b[43m,\u001b[49m\u001b[43m \u001b[49m\u001b[38;5;124;43m'\u001b[39;49m\u001b[38;5;124;43mr\u001b[39;49m\u001b[38;5;124;43m'\u001b[39;49m\u001b[43m)\u001b[49m \u001b[38;5;28;01mas\u001b[39;00m file:\n\u001b[0;32m      4\u001b[0m         \u001b[38;5;28;01mfor\u001b[39;00m line \u001b[38;5;129;01min\u001b[39;00m file:\n\u001b[0;32m      5\u001b[0m             currency_code, rate, _ \u001b[38;5;241m=\u001b[39m line\u001b[38;5;241m.\u001b[39msplit()\n",
      "File \u001b[1;32m~\\anaconda3\\lib\\site-packages\\IPython\\core\\interactiveshell.py:282\u001b[0m, in \u001b[0;36m_modified_open\u001b[1;34m(file, *args, **kwargs)\u001b[0m\n\u001b[0;32m    275\u001b[0m \u001b[38;5;28;01mif\u001b[39;00m file \u001b[38;5;129;01min\u001b[39;00m {\u001b[38;5;241m0\u001b[39m, \u001b[38;5;241m1\u001b[39m, \u001b[38;5;241m2\u001b[39m}:\n\u001b[0;32m    276\u001b[0m     \u001b[38;5;28;01mraise\u001b[39;00m \u001b[38;5;167;01mValueError\u001b[39;00m(\n\u001b[0;32m    277\u001b[0m         \u001b[38;5;124mf\u001b[39m\u001b[38;5;124m\"\u001b[39m\u001b[38;5;124mIPython won\u001b[39m\u001b[38;5;124m'\u001b[39m\u001b[38;5;124mt let you open fd=\u001b[39m\u001b[38;5;132;01m{\u001b[39;00mfile\u001b[38;5;132;01m}\u001b[39;00m\u001b[38;5;124m by default \u001b[39m\u001b[38;5;124m\"\u001b[39m\n\u001b[0;32m    278\u001b[0m         \u001b[38;5;124m\"\u001b[39m\u001b[38;5;124mas it is likely to crash IPython. If you know what you are doing, \u001b[39m\u001b[38;5;124m\"\u001b[39m\n\u001b[0;32m    279\u001b[0m         \u001b[38;5;124m\"\u001b[39m\u001b[38;5;124myou can use builtins\u001b[39m\u001b[38;5;124m'\u001b[39m\u001b[38;5;124m open.\u001b[39m\u001b[38;5;124m\"\u001b[39m\n\u001b[0;32m    280\u001b[0m     )\n\u001b[1;32m--> 282\u001b[0m \u001b[38;5;28;01mreturn\u001b[39;00m io_open(file, \u001b[38;5;241m*\u001b[39margs, \u001b[38;5;241m*\u001b[39m\u001b[38;5;241m*\u001b[39mkwargs)\n",
      "\u001b[1;31mFileNotFoundError\u001b[0m: [Errno 2] No such file or directory: 'currencies.txt'"
     ]
    }
   ],
   "source": [
    "def curconv(currency, amount):\n",
    "    rates = {}\n",
    "    with open('currencies.txt', 'r') as file:\n",
    "        for line in file:\n",
    "            currency_code, rate, _ = line.split()\n",
    "            rates[currency_code] = float(rate)\n",
    "    usd_amount = amount * rates[currency]\n",
    "    return usd_amount\n",
    "usd_value = curconv('EUR', 100)\n",
    "print(usd_value) \n",
    "usd_value = curconv('JPY', 100)\n",
    "print(usd_value)  \n"
   ]
  },
  {
   "cell_type": "markdown",
   "id": "64b46a34",
   "metadata": {},
   "source": [
    "## Question 9: Each of the following will cause an exception (an error). Identify what type of exception each will cause.\n",
    "## 1. Trying to add incompatible variables, as in adding 6 + ‘a’.\n",
    "This will get a 'TypeError' as these to are different data types.\n",
    "\n"
   ]
  },
  {
   "cell_type": "code",
   "execution_count": 35,
   "id": "605f7db0",
   "metadata": {},
   "outputs": [
    {
     "ename": "TypeError",
     "evalue": "unsupported operand type(s) for +: 'int' and 'str'",
     "output_type": "error",
     "traceback": [
      "\u001b[1;31m---------------------------------------------------------------------------\u001b[0m",
      "\u001b[1;31mTypeError\u001b[0m                                 Traceback (most recent call last)",
      "Cell \u001b[1;32mIn[35], line 3\u001b[0m\n\u001b[0;32m      1\u001b[0m \u001b[38;5;66;03m# Example\u001b[39;00m\n\u001b[1;32m----> 3\u001b[0m \u001b[38;5;28mprint\u001b[39m(\u001b[38;5;241;43m6\u001b[39;49m\u001b[43m \u001b[49m\u001b[38;5;241;43m+\u001b[39;49m\u001b[43m \u001b[49m\u001b[38;5;124;43m'\u001b[39;49m\u001b[38;5;124;43ma\u001b[39;49m\u001b[38;5;124;43m'\u001b[39;49m)\n",
      "\u001b[1;31mTypeError\u001b[0m: unsupported operand type(s) for +: 'int' and 'str'"
     ]
    }
   ],
   "source": [
    "# Example\n",
    "\n",
    "print(6 + 'a')"
   ]
  },
  {
   "cell_type": "markdown",
   "id": "28bd6db2",
   "metadata": {},
   "source": [
    "## 2. Referring to the 12th item of a list that has only 10 items.\n",
    "This will give yo an 'IndexError' as a list that containing 10 items last elements index will be 9.\n",
    " "
   ]
  },
  {
   "cell_type": "markdown",
   "id": "78244b15",
   "metadata": {},
   "source": [
    "## 3. Using a value that is out of range for a function’s input, such as calling math.sqrt(-1.0)\n",
    "This will give a 'ValueError'"
   ]
  },
  {
   "cell_type": "markdown",
   "id": "317340a8",
   "metadata": {},
   "source": [
    "## 4. Using an undeclared variable, such as print(x) when x has not been defined.\n",
    "This will give a 'NameError' as the variable have not been declared.\n"
   ]
  },
  {
   "cell_type": "code",
   "execution_count": 37,
   "id": "0afdf382",
   "metadata": {},
   "outputs": [
    {
     "ename": "NameError",
     "evalue": "name 'x' is not defined",
     "output_type": "error",
     "traceback": [
      "\u001b[1;31m---------------------------------------------------------------------------\u001b[0m",
      "\u001b[1;31mNameError\u001b[0m                                 Traceback (most recent call last)",
      "Cell \u001b[1;32mIn[37], line 3\u001b[0m\n\u001b[0;32m      1\u001b[0m \u001b[38;5;66;03m# Example\u001b[39;00m\n\u001b[0;32m      2\u001b[0m y \u001b[38;5;241m=\u001b[39m \u001b[38;5;241m10\u001b[39m\n\u001b[1;32m----> 3\u001b[0m \u001b[38;5;28mprint\u001b[39m(\u001b[43mx\u001b[49m)\n",
      "\u001b[1;31mNameError\u001b[0m: name 'x' is not defined"
     ]
    }
   ],
   "source": [
    "# Example\n",
    "y = 10\n",
    "print(x)"
   ]
  },
  {
   "cell_type": "markdown",
   "id": "84c278c2",
   "metadata": {},
   "source": [
    "## 5. Trying to open a file that does not exist, such as mistyping the file name or looking in the wrong directory.\n",
    "This will generate a 'FileNotFound' error as the file does not exist.\n"
   ]
  },
  {
   "cell_type": "markdown",
   "id": "82c1a203",
   "metadata": {},
   "source": [
    "## Question 10: Encryption is the process of hiding the meaning of a text by substituting letters in the message with other letters, according to some system. If the process is successful, no one but the intended recipient can understand the encrypted message. Cryptanalysis refers to attempts to undo the encryption, even if some details of the encryption are unknown (for example, if an encrypted message has been intercepted). The first step of cryptanalysis is often to build up a table of letter frequencies in the encrypted text. Assume that the string letters is already defined as 'abcdefghijklmnopqrstuvwxyz'. Write a function called frequencies() that takes a string as its only parameter, and returns a list of integers, showing the number of times each character appears in the text. Your function may ignore any characters that are not in letters.\n",
    "##  >>>frequencies('The quick red fox got bored and went home.')\n",
    "## [1, 1, 1, 3, 5, 1, 1, 2, 1, 0, 1, 0, 1, 2, 4, 0, 1, 2, 0, 2, 1, 0, 1, 1, 0, 0]\n",
    "## >>>frequencies('apple')\n"
   ]
  },
  {
   "cell_type": "code",
   "execution_count": 41,
   "id": "aefcee56",
   "metadata": {},
   "outputs": [
    {
     "name": "stdout",
     "output_type": "stream",
     "text": [
      "[1, 1, 1, 3, 5, 1, 1, 2, 1, 0, 1, 0, 1, 2, 4, 0, 1, 2, 0, 2, 1, 0, 1, 1, 0, 0]\n",
      "[1, 0, 0, 0, 1, 0, 0, 0, 0, 0, 0, 1, 0, 0, 0, 2, 0, 0, 0, 0, 0, 0, 0, 0, 0, 0]\n"
     ]
    }
   ],
   "source": [
    "def frequencies(text):\n",
    "    alphabets = 'abcdefghijklmnopqrstuvwxyz'\n",
    "    values = []\n",
    "    for letter in alphabets:\n",
    "        values.append(text.count(letter))\n",
    "    return values\n",
    "answer = frequencies('The quick red fox got bored and went home.')\n",
    "print(answer)\n",
    "result = frequencies('apple')\n",
    "print(result)"
   ]
  },
  {
   "cell_type": "code",
   "execution_count": null,
   "id": "89984c12",
   "metadata": {},
   "outputs": [],
   "source": []
  },
  {
   "cell_type": "code",
   "execution_count": null,
   "id": "66ea55bc",
   "metadata": {},
   "outputs": [],
   "source": []
  }
 ],
 "metadata": {
  "kernelspec": {
   "display_name": "Python 3 (ipykernel)",
   "language": "python",
   "name": "python3"
  },
  "language_info": {
   "codemirror_mode": {
    "name": "ipython",
    "version": 3
   },
   "file_extension": ".py",
   "mimetype": "text/x-python",
   "name": "python",
   "nbconvert_exporter": "python",
   "pygments_lexer": "ipython3",
   "version": "3.10.9"
  }
 },
 "nbformat": 4,
 "nbformat_minor": 5
}
